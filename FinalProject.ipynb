{
  "nbformat": 4,
  "nbformat_minor": 0,
  "metadata": {
    "colab": {
      "provenance": [],
      "collapsed_sections": [
        "IOB5_fWlpC05",
        "542PGOVPGeus",
        "cxXnd8vG0xs0",
        "Ht4zvCmk01z-",
        "yPRcEXKN1iht"
      ],
      "gpuType": "L4",
      "machine_shape": "hm",
      "include_colab_link": true
    },
    "kernelspec": {
      "name": "python3",
      "display_name": "Python 3"
    },
    "language_info": {
      "name": "python"
    },
    "accelerator": "GPU"
  },
  "cells": [
    {
      "cell_type": "markdown",
      "metadata": {
        "id": "view-in-github",
        "colab_type": "text"
      },
      "source": [
        "<a href=\"https://colab.research.google.com/github/DanielTzafrir/Final-Project/blob/main/FinalProject.ipynb\" target=\"_parent\"><img src=\"https://colab.research.google.com/assets/colab-badge.svg\" alt=\"Open In Colab\"/></a>"
      ]
    },
    {
      "cell_type": "code",
      "source": [
        "!pip install pydub"
      ],
      "metadata": {
        "id": "4cZTZ_BXDBg8",
        "colab": {
          "base_uri": "https://localhost:8080/"
        },
        "outputId": "5ca480d9-5f1b-4b86-804e-fb0b9298fa98"
      },
      "execution_count": 1,
      "outputs": [
        {
          "output_type": "stream",
          "name": "stdout",
          "text": [
            "Collecting pydub\n",
            "  Downloading pydub-0.25.1-py2.py3-none-any.whl (32 kB)\n",
            "Installing collected packages: pydub\n",
            "Successfully installed pydub-0.25.1\n"
          ]
        }
      ]
    },
    {
      "cell_type": "code",
      "source": [
        "from google.colab import drive\n",
        "drive.mount('/content/drive')"
      ],
      "metadata": {
        "id": "onmX8L955Is9",
        "colab": {
          "base_uri": "https://localhost:8080/"
        },
        "outputId": "a36aac82-33be-479d-cdcd-86172f9311bb"
      },
      "execution_count": 2,
      "outputs": [
        {
          "output_type": "stream",
          "name": "stdout",
          "text": [
            "Mounted at /content/drive\n"
          ]
        }
      ]
    },
    {
      "cell_type": "markdown",
      "source": [
        "###Create wav files from raw data"
      ],
      "metadata": {
        "id": "IOB5_fWlpC05"
      }
    },
    {
      "cell_type": "code",
      "source": [
        "import pandas as pd\n",
        "\n",
        "# Read CSV file\n",
        "df = pd.read_csv('Raw data.csv')\n",
        "\n",
        "# Extract time and sound intensity columns\n",
        "time = df['Time (s)'].values\n",
        "intensity = df['Recording (a.u.)'].values\n"
      ],
      "metadata": {
        "id": "72Y6SRHDpJJq"
      },
      "execution_count": null,
      "outputs": []
    },
    {
      "cell_type": "code",
      "source": [
        "import numpy as np\n",
        "from scipy.interpolate import interp1d\n",
        "\n",
        "# Interpolate data if needed\n",
        "interp_func = interp1d(time, intensity, kind='linear')\n",
        "\n",
        "# Define the time range for the waveform\n",
        "sample_rate = 16000  # Example sample rate (adjust as needed)\n",
        "duration = max(time)\n",
        "t = np.linspace(0, duration, int(sample_rate * duration), endpoint=False)\n",
        "\n",
        "# Generate waveform based on interpolated data\n",
        "waveform = interp_func(t)\n"
      ],
      "metadata": {
        "id": "2xbVMXKqpsNu"
      },
      "execution_count": null,
      "outputs": []
    },
    {
      "cell_type": "code",
      "source": [
        "import wave\n",
        "\n",
        "# Open WAV file for writing\n",
        "with wave.open('record/output.wav', 'wb') as wf:\n",
        "    wf.setnchannels(1)  # Mono audio\n",
        "    wf.setsampwidth(2)  # 2 bytes for 16-bit audio (adjust for other bit depths)\n",
        "    wf.setframerate(sample_rate)\n",
        "    wf.writeframes(waveform.astype(np.int16).tobytes())\n"
      ],
      "metadata": {
        "id": "znKao1aqp_2F"
      },
      "execution_count": null,
      "outputs": []
    },
    {
      "cell_type": "markdown",
      "source": [
        "### Make the wav files smaller to 1 sec long\n",
        "* Pay attention to the path"
      ],
      "metadata": {
        "id": "aAo8mMa_Oyow"
      }
    },
    {
      "cell_type": "code",
      "source": [
        "from pydub import AudioSegment\n",
        "import os\n",
        "\n",
        "global counter\n",
        "\n",
        "counter = 0\n",
        "\n",
        "def split_wav_file(input_file, output_dir, segment_length_ms=1000):\n",
        "    global counter\n",
        "    audio = AudioSegment.from_wav(input_file)\n",
        "    num_segments = len(audio) // segment_length_ms\n",
        "    for i in range(num_segments):\n",
        "        start_time = i * segment_length_ms\n",
        "        end_time = (i + 1) * segment_length_ms\n",
        "        segment = audio[start_time:end_time]\n",
        "\n",
        "        segment.export(os.path.join(output_dir, f\"segment_{i + counter}.wav\"), format=\"wav\")\n",
        "        counter += 1\n",
        "\n",
        "\n",
        "# Usage\n",
        "input_wav_file_bad = \"/content/drive/MyDrive/data/Abnormal.wav\"\n",
        "output_directory_bad = \"record_to_1_sec/bad\"\n",
        "split_wav_file(input_wav_file_bad, output_directory_bad)\n",
        "\n",
        "input_wav_file_good = \"/content/drive/MyDrive/data/Normal.wav\"\n",
        "output_directory_good = \"record_to_1_sec/good\"\n",
        "split_wav_file(input_wav_file_good, output_directory_good)"
      ],
      "metadata": {
        "id": "xWH-6kLaCOOw"
      },
      "execution_count": 3,
      "outputs": []
    },
    {
      "cell_type": "markdown",
      "source": [
        "### Clear folders"
      ],
      "metadata": {
        "id": "542PGOVPGeus"
      }
    },
    {
      "cell_type": "code",
      "source": [
        "# prompt: clear a folder, make it empty\n",
        "\n",
        "!rm -rf record_to_1_sec/good/*\n",
        "!rm -rf record_to_1_sec/bad/*\n"
      ],
      "metadata": {
        "id": "_XipLjbl0S58"
      },
      "execution_count": null,
      "outputs": []
    },
    {
      "cell_type": "markdown",
      "source": [
        "### Create dataset (labels)\n",
        "* Depends on the path of the record"
      ],
      "metadata": {
        "id": "Z4ifkZbgPa0r"
      }
    },
    {
      "cell_type": "code",
      "source": [
        "import csv\n",
        "\n",
        "def create_dataset_csv(input_dir, label):\n",
        "      label = \"1\" if label == 1 else \"0\"\n",
        "      for filename in os.listdir(input_dir):\n",
        "          writer.writerow([filename, label])\n",
        "\n",
        "# Usage\n",
        "output_csv_file = \"label/labels.csv\"\n",
        "with open(output_csv_file, 'w', newline='') as file:\n",
        "        writer = csv.writer(file)\n",
        "        writer.writerow(['filename', 'label'])\n",
        "        input_directory_good = \"record_to_1_sec/good\"\n",
        "        create_dataset_csv(input_directory_good, 1)\n",
        "        input_directory_bad = \"record_to_1_sec/bad\"\n",
        "        create_dataset_csv(input_directory_bad, 0)"
      ],
      "metadata": {
        "id": "Le_6FE89DRVf"
      },
      "execution_count": 4,
      "outputs": []
    },
    {
      "cell_type": "markdown",
      "source": [
        "###Load WAV Files:"
      ],
      "metadata": {
        "id": "cxXnd8vG0xs0"
      }
    },
    {
      "cell_type": "code",
      "source": [
        "import librosa\n",
        "\n",
        "def load_audio(file_path, duration=1.0, sr=16000):\n",
        "    audio, _ = librosa.load(file_path, sr=sr, duration=duration)\n",
        "    return audio\n"
      ],
      "metadata": {
        "id": "bVvO02eqsVh-"
      },
      "execution_count": null,
      "outputs": []
    },
    {
      "cell_type": "markdown",
      "source": [
        "###Convert to Spectrogram:"
      ],
      "metadata": {
        "id": "Ht4zvCmk01z-"
      }
    },
    {
      "cell_type": "code",
      "source": [
        "import numpy as np\n",
        "import librosa.display\n",
        "import matplotlib.pyplot as plt\n",
        "\n",
        "def create_spectrogram(audio, sr=16000):\n",
        "    spectrogram = librosa.feature.melspectrogram(y=audio, sr=sr)\n",
        "    spectrogram = librosa.power_to_db(spectrogram, ref=np.max)\n",
        "    return spectrogram\n",
        "\n",
        "def plot_spectrogram(spectrogram):\n",
        "    plt.figure(figsize=(10, 4))\n",
        "    librosa.display.specshow(spectrogram, y_axis='mel', fmax=8000, x_axis='time')\n",
        "    plt.colorbar(format='%+2.0f dB')\n",
        "    plt.title('Mel Spectrogram')\n",
        "    plt.show()\n"
      ],
      "metadata": {
        "id": "McLdklJF0lbf"
      },
      "execution_count": null,
      "outputs": []
    },
    {
      "cell_type": "markdown",
      "source": [
        "###Preprocess Data:"
      ],
      "metadata": {
        "id": "yPRcEXKN1iht"
      }
    },
    {
      "cell_type": "code",
      "source": [
        "# Load audio\n",
        "file_path = '/content/record_to_1_sec/bad/segment_10.wav'\n",
        "audio = load_audio(file_path)\n",
        "\n",
        "# Create spectrogram\n",
        "spectrogram = create_spectrogram(audio)\n",
        "\n",
        "# Plot spectrogram (optional)\n",
        "plot_spectrogram(spectrogram)\n",
        "\n",
        "# Normalize spectrogram (optional but recommended)\n",
        "normalized_spectrogram = (spectrogram - np.mean(spectrogram)) / np.std(spectrogram)\n"
      ],
      "metadata": {
        "colab": {
          "base_uri": "https://localhost:8080/",
          "height": 340
        },
        "id": "PIwFuVMn09V5",
        "outputId": "b32bf0bf-f2a2-48b2-c51a-83898926d932"
      },
      "execution_count": null,
      "outputs": [
        {
          "output_type": "display_data",
          "data": {
            "text/plain": [
              "<Figure size 1000x400 with 2 Axes>"
            ],
            "image/png": "[encoded data removed]"
          },
          "metadata": {}
        }
      ]
    },
    {
      "cell_type": "markdown",
      "source": [
        "### Create the dataset\n",
        "\n",
        "- Get the labels from the csv\n",
        "- Convert each wav file to a spectogram\n",
        "- Save the spectograms at a list (X) that represents the featurs\n",
        "- Save the labels at a list (Y) that represents the labels\n",
        "- Split the data to train and test"
      ],
      "metadata": {
        "id": "K3cg_5Cnf9i4"
      }
    },
    {
      "cell_type": "code",
      "source": [
        "!pip install tensorflow"
      ],
      "metadata": {
        "id": "WsM5o2FwIk0q"
      },
      "execution_count": null,
      "outputs": []
    },
    {
      "cell_type": "code",
      "source": [
        "import pandas as pd\n",
        "import numpy as np\n",
        "import librosa\n",
        "import matplotlib.pyplot as plt\n",
        "from tensorflow.keras.utils import to_categorical\n",
        "\n",
        "# Load CSV file with file names and labels\n",
        "csv_file_path = '/content/label/labels.csv'\n",
        "data_df = pd.read_csv(csv_file_path)\n",
        "\n",
        "# Define a function to load audio and create spectrogram\n",
        "def load_audio_and_spectrogram(file_path):\n",
        "    audio, sr = librosa.load(file_path, sr=None)\n",
        "    spectrogram = np.abs(librosa.stft(audio))\n",
        "    return spectrogram\n",
        "\n",
        "# Define function to preprocess spectrogram\n",
        "def preprocess_spectrogram(spectrogram):\n",
        "    # Normalize spectrogram\n",
        "    normalized_spectrogram = (spectrogram - np.mean(spectrogram)) / np.std(spectrogram)\n",
        "    # Resize spectrogram to a fixed shape (if needed)\n",
        "    # normalized_spectrogram = resize(normalized_spectrogram, target_shape)\n",
        "    return normalized_spectrogram\n",
        "\n",
        "# Prepare data and labels for the CNN\n",
        "X = []  # List to store spectrogram data\n",
        "y = []  # List to store labels\n",
        "\n",
        "for index, row in data_df.iterrows():\n",
        "    file_name = row['filename']  # Update with CSV column name for file names\n",
        "    label = row['label']  # Update with CSV column name for labels\n",
        "    if label == 1:\n",
        "        file_path = '/content/record_to_1_sec/good/' + file_name  # Update with audio files directory for 'good' files\n",
        "    elif label == 0:\n",
        "        file_path = '/content/record_to_1_sec/bad/' + file_name  # Update with audio files directory for 'bad' files\n",
        "    else:\n",
        "        # Handle other cases or raise an error\n",
        "        continue  # Skip this iteration if label is neither '1' nor '0'\n",
        "\n",
        "    # Load audio and create spectrogram\n",
        "    spectrogram = load_audio_and_spectrogram(file_path)\n",
        "\n",
        "    # Preprocess spectrogram\n",
        "    processed_spectrogram = preprocess_spectrogram(spectrogram)\n",
        "\n",
        "    # Append to data and labels lists\n",
        "    X.append(processed_spectrogram)\n",
        "    y.append(label)\n",
        "\n",
        "# Convert lists to numpy arrays\n",
        "X = np.array(X)\n",
        "y = np.array(y)\n",
        "\n",
        "# Optionally, convert labels to categorical if needed (e.g., for multi-class classification)\n",
        "# y = to_categorical(y)\n",
        "\n",
        "# Shuffle and split the dataset into train and test sets (or use other methods for splitting)\n",
        "from sklearn.model_selection import train_test_split\n",
        "\n",
        "X_train, X_test, y_train, y_test = train_test_split(X, y, test_size=0.1, random_state=42)\n",
        "\n",
        "# Split the training data into training and validation sets\n",
        "X_test, X_val, y_test, y_val = train_test_split(X_test, y_test, test_size=0.5, random_state=42)\n",
        "\n",
        "# Print shapes for verification\n",
        "print(\"X_train shape:\", X_train.shape)\n",
        "print(\"X_val shape:\", X_val.shape)\n",
        "print(\"X_test shape:\", X_test.shape)\n",
        "print(\"y_train shape:\", y_train.shape)\n",
        "print(\"y_val shape:\", y_val.shape)\n",
        "print(\"y_test shape:\", y_test.shape)"
      ],
      "metadata": {
        "colab": {
          "base_uri": "https://localhost:8080/"
        },
        "id": "o640WlRYGuw4",
        "outputId": "b761167d-45d3-41b7-9ebc-79b77f4baba4"
      },
      "execution_count": 6,
      "outputs": [
        {
          "output_type": "stream",
          "name": "stdout",
          "text": [
            "X_train shape: (5875, 1025, 94)\n",
            "X_val shape: (327, 1025, 94)\n",
            "X_test shape: (326, 1025, 94)\n",
            "y_train shape: (5875,)\n",
            "y_val shape: (327,)\n",
            "y_test shape: (326,)\n"
          ]
        }
      ]
    },
    {
      "cell_type": "markdown",
      "source": [
        "### Make the data dirty\n",
        "- Dirt for spectogram\n"
      ],
      "metadata": {
        "id": "K5WR5ARQkQhe"
      }
    },
    {
      "cell_type": "code",
      "source": [
        "# Add salt and pepper noise to 50% of the training data\n",
        "def add_salt_pepper_noise(spectrogram, salt_prob=0.05, pepper_prob=0.05):\n",
        "    noisy_spectrogram = np.copy(spectrogram)\n",
        "    salt = np.random.rand(*noisy_spectrogram.shape) < salt_prob\n",
        "    pepper = np.random.rand(*noisy_spectrogram.shape) < pepper_prob\n",
        "\n",
        "    # Add salt noise (set to maximum value)\n",
        "    noisy_spectrogram[salt] = np.max(noisy_spectrogram)\n",
        "\n",
        "    # Add pepper noise (set to minimum value)\n",
        "    noisy_spectrogram[pepper] = np.min(noisy_spectrogram)\n",
        "\n",
        "    return noisy_spectrogram\n",
        "\n",
        "def add_gaussian_noise(spectrogram, mean=0, std=0.1):\n",
        "    noisy_spectrogram = spectrogram + np.random.normal(mean, std, spectrogram.shape)\n",
        "    return noisy_spectrogram\n",
        "\n",
        "def add_speckle_noise(spectrogram, mean=0, std=0.1):\n",
        "    noise = np.random.normal(mean, std, spectrogram.shape)\n",
        "    noisy_spectrogram = spectrogram + spectrogram * noise\n",
        "    return noisy_spectrogram\n",
        "\n",
        "def add_uniform_noise(spectrogram, min_val=0, max_val=0.1):\n",
        "    noisy_spectrogram = spectrogram + np.random.uniform(min_val, max_val, spectrogram.shape)\n",
        "    return noisy_spectrogram\n",
        "\n",
        "# Define the noise functions and their probabilities\n",
        "noise_functions = [\n",
        "    add_salt_pepper_noise,\n",
        "    add_gaussian_noise,\n",
        "    add_speckle_noise,\n",
        "    add_uniform_noise,\n",
        "]\n",
        "noise_probs = [0.25, 0.25, 0.25, 0.25]  # Equal probabilities for each noise function\n",
        "\n",
        "# Apply noise to 50% of the training data randomly\n",
        "for i in range(len(X_train)):\n",
        "    if np.random.rand() < 0.5:  # Apply noise with 50% probability\n",
        "        noise_func = np.random.choice(noise_functions, p=noise_probs)\n",
        "        X_train[i] = noise_func(X_train[i])"
      ],
      "metadata": {
        "id": "Z7vrUibQkV-h"
      },
      "execution_count": 10,
      "outputs": []
    },
    {
      "cell_type": "markdown",
      "source": [
        "### The Model"
      ],
      "metadata": {
        "id": "WflBF5fTgahG"
      }
    },
    {
      "cell_type": "code",
      "source": [
        "from torch import nn\n",
        "import torch\n",
        "\n",
        "DROP_OUT = 0.5\n",
        "DIMENSION = 512 * 300\n",
        "\n",
        "\n",
        "class Convolutional_Speaker_Identification(nn.Module):\n",
        "\n",
        "    def cal_paddind_shape(self, new_shape, old_shape, kernel_size, stride_size):\n",
        "        return (stride_size * (new_shape - 1) + kernel_size - old_shape) / 2\n",
        "\n",
        "    def __init__(self, num_speakers):\n",
        "\n",
        "        super().__init__()\n",
        "        self.num_speakers = num_speakers\n",
        "\n",
        "        self.conv_2d_1 = nn.Conv2d(1, 96, kernel_size=(7, 7), stride=(2, 2), padding=1)\n",
        "        self.bn_1 = nn.BatchNorm2d(96)\n",
        "        self.max_pool_2d_1 = nn.MaxPool2d(kernel_size=(3, 3), stride=(2, 2))\n",
        "\n",
        "        self.conv_2d_2 = nn.Conv2d(96, 256, kernel_size=(5, 5), stride=(2, 2), padding=1)\n",
        "        self.bn_2 = nn.BatchNorm2d(256)\n",
        "        self.max_pool_2d_2 = nn.MaxPool2d(kernel_size=(3, 3), stride=(2, 2))\n",
        "\n",
        "        self.conv_2d_3 = nn.Conv2d(256, 384, kernel_size=(3, 3), padding=1)\n",
        "        self.bn_3 = nn.BatchNorm2d(384)\n",
        "\n",
        "        self.conv_2d_4 = nn.Conv2d(384, 256, kernel_size=(3, 3), padding=1)\n",
        "        self.bn_4 = nn.BatchNorm2d(256)\n",
        "\n",
        "        self.conv_2d_5 = nn.Conv2d(256, 256, kernel_size=(3, 3), padding=1)\n",
        "        self.bn_5 = nn.BatchNorm2d(256)\n",
        "        self.max_pool_2d_3 = nn.MaxPool2d(kernel_size=(5, 3), stride=(3, 2))\n",
        "\n",
        "        self.conv_2d_6 = nn.Conv2d(256, 4096, kernel_size=(9, 1), padding=0)\n",
        "        self.drop_1 = nn.Dropout(p=DROP_OUT)\n",
        "\n",
        "        self.global_avg_pooling_2d = nn.AdaptiveAvgPool2d((1, 1))\n",
        "        self.dense_1 = nn.Linear(4096, 1024)\n",
        "        self.drop_2 = nn.Dropout(p=DROP_OUT)\n",
        "\n",
        "        self.dense_2 = nn.Linear(1024, self.num_speakers)\n",
        "\n",
        "    def forward(self, X):\n",
        "\n",
        "        x = nn.ReLU()(self.conv_2d_1(X))\n",
        "        x = self.bn_1(x)\n",
        "        x = self.max_pool_2d_1(x)\n",
        "\n",
        "        x = nn.ReLU()(self.conv_2d_2(x))\n",
        "        x = self.bn_2(x)\n",
        "        x = self.max_pool_2d_2(x)\n",
        "\n",
        "        x = nn.ReLU()(self.conv_2d_3(x))\n",
        "        x = self.bn_3(x)\n",
        "\n",
        "        x = nn.ReLU()(self.conv_2d_4(x))\n",
        "        x = self.bn_4(x)\n",
        "\n",
        "        x = nn.ReLU()(self.conv_2d_5(x))\n",
        "        x = self.bn_5(x)\n",
        "        x = self.max_pool_2d_3(x)\n",
        "\n",
        "        x = nn.ReLU()(self.conv_2d_6(x))\n",
        "        x = self.drop_1(x)\n",
        "        x = self.global_avg_pooling_2d(x)\n",
        "\n",
        "        x = x.view(-1, x.shape[1])  # output channel for flatten before entering the dense layer\n",
        "        x = nn.ReLU()(self.dense_1(x))\n",
        "        x = self.drop_2(x)\n",
        "\n",
        "        x = self.dense_2(x)\n",
        "        y = nn.LogSoftmax(dim=1)(x)   # consider using Log-Softmax\n",
        "\n",
        "        return y\n",
        "\n",
        "    def get_epochs(self):\n",
        "        return 3\n",
        "\n",
        "    def get_learning_rate(self):\n",
        "        return 0.0001\n",
        "\n",
        "    def get_batch_size(self):\n",
        "        return 16\n",
        "\n",
        "    def to_string(self):\n",
        "        return \"Convolutional_Speaker_Identification_Log_Softmax_Model-epoch_\""
      ],
      "metadata": {
        "id": "Ot2Nvv7DKvk9"
      },
      "execution_count": 11,
      "outputs": []
    },
    {
      "cell_type": "markdown",
      "source": [
        "### Train the model\n",
        "- get accuracy and loss"
      ],
      "metadata": {
        "id": "4yVYlGWXgivr"
      }
    },
    {
      "cell_type": "code",
      "source": [
        "import torch\n",
        "import torch.nn as nn\n",
        "import torch.optim as optim\n",
        "from torch.utils.data import DataLoader, TensorDataset\n",
        "from sklearn.model_selection import train_test_split\n",
        "from sklearn.metrics import accuracy_score, confusion_matrix\n",
        "import numpy as np\n",
        "import matplotlib.pyplot as plt\n",
        "import seaborn as sns\n",
        "\n",
        "# Define your CNN model\n",
        "num_speakers = 2\n",
        "model = Convolutional_Speaker_Identification(num_speakers)\n",
        "\n",
        "# Define loss function and optimizer\n",
        "criterion = nn.CrossEntropyLoss()\n",
        "optimizer = optim.Adam(model.parameters(), lr=model.get_learning_rate())\n",
        "\n",
        "# Convert data to PyTorch tensors\n",
        "X_train_tensor = torch.from_numpy(X_train).unsqueeze(1).float()  # Add channel dimension for 1-channel spectrograms\n",
        "y_train_tensor = torch.from_numpy(y_train).long()  # Convert labels to long tensor\n",
        "X_val_tensor = torch.from_numpy(X_val).unsqueeze(1).float()  # Convert validation data to PyTorch tensors\n",
        "y_val_tensor = torch.from_numpy(y_val).long()\n",
        "\n",
        "# Define lists to store training and validation losses\n",
        "train_losses = []\n",
        "val_losses = []\n",
        "\n",
        "# Create a DataLoader for training\n",
        "train_dataset = TensorDataset(X_train_tensor, y_train_tensor)\n",
        "train_loader = DataLoader(train_dataset, batch_size=model.get_batch_size(), shuffle=True)\n",
        "\n",
        "# Convert validation data to PyTorch tensors and create DataLoader for validation set\n",
        "val_dataset = TensorDataset(X_val_tensor, y_val_tensor)\n",
        "val_loader = DataLoader(val_dataset, batch_size=model.get_batch_size(), shuffle=False)  # No need to shuffle during validation\n",
        "\n",
        "# Training loop\n",
        "num_epochs = model.get_epochs()\n",
        "for epoch in range(num_epochs):\n",
        "    model.train()  # Set model to training mode\n",
        "    running_loss = 0.0\n",
        "    predictions = []\n",
        "    true_labels = []\n",
        "    for inputs, labels in train_loader:\n",
        "        optimizer.zero_grad()  # Zero the gradients\n",
        "\n",
        "        outputs = model.forward(inputs)  # Forward pass\n",
        "        loss = criterion(outputs, labels)  # Calculate loss\n",
        "        loss.backward()  # Backward pass\n",
        "        optimizer.step()  # Update weights\n",
        "\n",
        "        running_loss += loss.item()\n",
        "\n",
        "        # Convert logits to probabilities and get predicted labels\n",
        "        _, predicted = torch.max(outputs, 1)\n",
        "        predictions.extend(predicted.tolist())\n",
        "        true_labels.extend(labels.tolist())\n",
        "    epoch_loss = running_loss / len(train_loader)\n",
        "    train_losses.append(epoch_loss)\n",
        "    accuracy = accuracy_score(true_labels, predictions)\n",
        "\n",
        "    # Evaluate on validation set\n",
        "    model.eval()  # Set model to evaluation mode\n",
        "    val_running_loss = 0.0\n",
        "    val_predictions = []\n",
        "    val_true_labels = []\n",
        "    with torch.no_grad():\n",
        "        for val_inputs, val_labels in val_loader:\n",
        "            val_outputs = model.forward(val_inputs)\n",
        "            val_loss = criterion(val_outputs, val_labels)\n",
        "            val_running_loss += val_loss.item()\n",
        "\n",
        "            # Convert logits to probabilities and get predicted labels\n",
        "            _, val_predicted = torch.max(val_outputs, 1)\n",
        "            val_predictions.extend(val_predicted.tolist())\n",
        "            val_true_labels.extend(val_labels.tolist())\n",
        "\n",
        "    val_epoch_loss = val_running_loss / len(val_loader)\n",
        "    val_losses.append(val_epoch_loss)\n",
        "    val_accuracy = accuracy_score(val_true_labels, val_predictions)\n",
        "\n",
        "    print(f'Epoch [{epoch + 1}/{num_epochs}], Train Loss: {epoch_loss:.4f}, Train Accuracy: {accuracy:.4f}, Val Loss: {val_epoch_loss:.4f}, Val Accuracy: {val_accuracy:.4f}')\n",
        "\n",
        "\n",
        "# Plotting the training and validation losses\n",
        "plt.figure(figsize=(8, 6))\n",
        "plt.plot(train_losses, label='Training Loss')\n",
        "plt.plot(val_losses, label='Validation Loss')\n",
        "plt.xlabel('Epoch')\n",
        "plt.ylabel('Loss')\n",
        "plt.title('Training and Validation Losses')\n",
        "plt.legend()\n",
        "plt.show()\n",
        "\n",
        "# Save the model if needed\n",
        "torch.save(model.state_dict(), '/model')\n"
      ],
      "metadata": {
        "id": "I7YdPAUCLxmL",
        "colab": {
          "base_uri": "https://localhost:8080/",
          "height": 616
        },
        "outputId": "b9363087-246e-4313-834e-49c84019b109"
      },
      "execution_count": 12,
      "outputs": [
        {
          "output_type": "stream",
          "name": "stdout",
          "text": [
            "Epoch [1/3], Train Loss: 0.1645, Train Accuracy: 0.9217, Val Loss: 0.0548, Val Accuracy: 0.9908\n",
            "Epoch [2/3], Train Loss: 0.0154, Train Accuracy: 0.9944, Val Loss: 0.0001, Val Accuracy: 1.0000\n",
            "Epoch [3/3], Train Loss: 0.0003, Train Accuracy: 1.0000, Val Loss: 0.0014, Val Accuracy: 1.0000\n"
          ]
        },
        {
          "output_type": "display_data",
          "data": {
            "text/plain": [
              "<Figure size 800x600 with 1 Axes>"
            ],
            "image/png": "[encoded data removed]"
          },
          "metadata": {}
        }
      ]
    },
    {
      "cell_type": "markdown",
      "source": [
        "### Test the model"
      ],
      "metadata": {
        "id": "Ca2cHkybpgcL"
      }
    },
    {
      "cell_type": "code",
      "source": [
        "import torch\n",
        "import numpy as np\n",
        "from torch.utils.data import DataLoader, TensorDataset\n",
        "from sklearn.metrics import confusion_matrix\n",
        "\n",
        "def test_model_and_get_confusion_matrix(model, X_test, y_test, criterion, batch_size, shuffle=False):\n",
        "    device = torch.device(\"cpu\")\n",
        "\n",
        "    # Convert NumPy arrays to PyTorch tensors\n",
        "    X_test_tensor = torch.from_numpy(X_test).unsqueeze(1).float()\n",
        "    y_test_tensor = torch.from_numpy(y_test)\n",
        "\n",
        "    # Create TensorDataset and DataLoader for test set\n",
        "    test_dataset = TensorDataset(X_test_tensor, y_test_tensor)\n",
        "    test_loader = DataLoader(test_dataset, batch_size=batch_size, shuffle=shuffle)\n",
        "\n",
        "    model.eval()\n",
        "    all_preds = []\n",
        "    all_labels = []\n",
        "    test_loss = 0.0\n",
        "\n",
        "    with torch.no_grad():\n",
        "        for inputs, labels in test_loader:\n",
        "            inputs, labels = inputs.to(device), labels.to(device)\n",
        "            outputs = model(inputs)\n",
        "            loss = criterion(outputs, labels)\n",
        "            test_loss += loss.item() * inputs.size(0)\n",
        "            _, preds = torch.max(outputs, 1)\n",
        "            all_preds.extend(preds.cpu().numpy())\n",
        "            all_labels.extend(labels.cpu().numpy())\n",
        "\n",
        "    test_loss = test_loss / len(test_loader.dataset)\n",
        "    confusion_mat = confusion_matrix(all_labels, all_preds)\n",
        "\n",
        "    return confusion_mat, test_loss\n",
        "\n",
        "# Example usage\n",
        "confusion_mat, test_loss = test_model_and_get_confusion_matrix(model, X_test, y_test, criterion, model.get_batch_size())\n",
        "\n",
        "# Plotting the confusion matrix\n",
        "plt.figure(figsize=(8, 6))\n",
        "sns.set(font_scale=1.2)  # Adjust font size\n",
        "sns.heatmap(confusion_mat, annot=True, fmt='d', cmap='Blues', cbar=False)\n",
        "plt.xlabel('Predicted Labels')\n",
        "plt.ylabel('True Labels')\n",
        "plt.title('Confusion Matrix')\n",
        "plt.show()\n",
        "\n",
        "print(\"Test Loss:\", test_loss)"
      ],
      "metadata": {
        "colab": {
          "base_uri": "https://localhost:8080/",
          "height": 595
        },
        "id": "XDpScKVrplWE",
        "outputId": "c14b13d9-e6d3-449a-b1ea-0be12e2a3b5b"
      },
      "execution_count": 13,
      "outputs": [
        {
          "output_type": "display_data",
          "data": {
            "text/plain": [
              "<Figure size 800x600 with 1 Axes>"
            ],
            "image/png": "[encoded data removed]"
          },
          "metadata": {}
        },
        {
          "output_type": "stream",
          "name": "stdout",
          "text": [
            "Test Loss: 0.001479011522252484\n"
          ]
        }
      ]
    },
    {
      "cell_type": "markdown",
      "source": [
        "### Try the model on example"
      ],
      "metadata": {
        "id": "kPdCWvQehVbv"
      }
    },
    {
      "cell_type": "code",
      "source": [
        "import torchaudio\n",
        "\n",
        "wav_path = 'path_to_your_wav_file.wav'\n",
        "waveform, sample_rate = torchaudio.load(wav_path)"
      ],
      "metadata": {
        "id": "vz3ccFnNhU7s"
      },
      "execution_count": null,
      "outputs": []
    },
    {
      "cell_type": "code",
      "source": [
        "# Convert audio to spectrogram\n",
        "mel_spec_transform = torchaudio.transforms.MelSpectrogram()\n",
        "mel_spec = mel_spec_transform(waveform)\n",
        "\n",
        "# Resize the spectrogram to match the expected input shape\n",
        "resized_spec = torch.nn.functional.interpolate(mel_spec, size=(height, width))\n",
        "\n",
        "# Add batch dimension\n",
        "input_data = resized_spec.unsqueeze(0)  # Add batch dimension"
      ],
      "metadata": {
        "id": "vz-LaK7VheMU"
      },
      "execution_count": null,
      "outputs": []
    },
    {
      "cell_type": "code",
      "source": [
        "model.eval()  # Set model to evaluation mode\n",
        "with torch.no_grad():  # Disable gradient calculation during inference\n",
        "    output = model(input_data)\n",
        "\n",
        "# Convert output to probabilities\n",
        "probabilities = torch.exp(output)"
      ],
      "metadata": {
        "id": "H39i3wSThj_O"
      },
      "execution_count": null,
      "outputs": []
    },
    {
      "cell_type": "code",
      "source": [
        "predicted_speaker = torch.argmax(probabilities, dim=1).item()"
      ],
      "metadata": {
        "id": "2VbwwP5vhmRM"
      },
      "execution_count": null,
      "outputs": []
    }
  ]
}